{
  "cells": [
    {
      "cell_type": "markdown",
      "metadata": {
        "id": "view-in-github",
        "colab_type": "text"
      },
      "source": [
        "<a href=\"https://colab.research.google.com/github/beom2pm/web1/blob/master/text2sql_test.ipynb\" target=\"_parent\"><img src=\"https://colab.research.google.com/assets/colab-badge.svg\" alt=\"Open In Colab\"/></a>"
      ]
    },
    {
      "cell_type": "markdown",
      "source": [
        "# 새 섹션"
      ],
      "metadata": {
        "id": "vg95z0UuOjRf"
      }
    },
    {
      "cell_type": "code",
      "source": [
        "pip install openai"
      ],
      "metadata": {
        "colab": {
          "base_uri": "https://localhost:8080/"
        },
        "id": "G9nVlY3VOrVW",
        "outputId": "57d63f65-c579-42c5-ada1-efb89438a8db"
      },
      "execution_count": 1,
      "outputs": [
        {
          "output_type": "stream",
          "name": "stdout",
          "text": [
            "Requirement already satisfied: openai in /usr/local/lib/python3.11/dist-packages (1.78.1)\n",
            "Requirement already satisfied: anyio<5,>=3.5.0 in /usr/local/lib/python3.11/dist-packages (from openai) (4.9.0)\n",
            "Requirement already satisfied: distro<2,>=1.7.0 in /usr/local/lib/python3.11/dist-packages (from openai) (1.9.0)\n",
            "Requirement already satisfied: httpx<1,>=0.23.0 in /usr/local/lib/python3.11/dist-packages (from openai) (0.28.1)\n",
            "Requirement already satisfied: jiter<1,>=0.4.0 in /usr/local/lib/python3.11/dist-packages (from openai) (0.9.0)\n",
            "Requirement already satisfied: pydantic<3,>=1.9.0 in /usr/local/lib/python3.11/dist-packages (from openai) (2.11.4)\n",
            "Requirement already satisfied: sniffio in /usr/local/lib/python3.11/dist-packages (from openai) (1.3.1)\n",
            "Requirement already satisfied: tqdm>4 in /usr/local/lib/python3.11/dist-packages (from openai) (4.67.1)\n",
            "Requirement already satisfied: typing-extensions<5,>=4.11 in /usr/local/lib/python3.11/dist-packages (from openai) (4.13.2)\n",
            "Requirement already satisfied: idna>=2.8 in /usr/local/lib/python3.11/dist-packages (from anyio<5,>=3.5.0->openai) (3.10)\n",
            "Requirement already satisfied: certifi in /usr/local/lib/python3.11/dist-packages (from httpx<1,>=0.23.0->openai) (2025.4.26)\n",
            "Requirement already satisfied: httpcore==1.* in /usr/local/lib/python3.11/dist-packages (from httpx<1,>=0.23.0->openai) (1.0.9)\n",
            "Requirement already satisfied: h11>=0.16 in /usr/local/lib/python3.11/dist-packages (from httpcore==1.*->httpx<1,>=0.23.0->openai) (0.16.0)\n",
            "Requirement already satisfied: annotated-types>=0.6.0 in /usr/local/lib/python3.11/dist-packages (from pydantic<3,>=1.9.0->openai) (0.7.0)\n",
            "Requirement already satisfied: pydantic-core==2.33.2 in /usr/local/lib/python3.11/dist-packages (from pydantic<3,>=1.9.0->openai) (2.33.2)\n",
            "Requirement already satisfied: typing-inspection>=0.4.0 in /usr/local/lib/python3.11/dist-packages (from pydantic<3,>=1.9.0->openai) (0.4.0)\n"
          ]
        }
      ]
    },
    {
      "cell_type": "markdown",
      "source": [
        "df"
      ],
      "metadata": {
        "id": "b1cUmgEjPFaF"
      }
    },
    {
      "cell_type": "code",
      "source": [
        "# Azure OpenAI 설정\n",
        "import os\n",
        "from openai import AzureOpenAI\n",
        "\n",
        "endpoint = \"https://yejin-maw8uq4a-swedencentral.cognitiveservices.azure.com/\"\n",
        "model_name = \"gpt-4o-mini\"\n",
        "deployment = \"gpt-4o-mini\"\n",
        "\n",
        "subscription_key = \"74K92fAi7MsnoW9rVQMxSB2EcPjDGgWGJyJensXyfFPpMdB6HZ0QJQQJ99BEACfhMk5XJ3w3AAAAACOGnrHY\"\n",
        "api_version = \"2024-12-01-preview\"\n",
        "\n",
        "client = AzureOpenAI(\n",
        "    api_version=api_version,\n",
        "    azure_endpoint=endpoint,\n",
        "    api_key=subscription_key,\n",
        ")\n",
        "\n",
        "response = client.chat.completions.create(\n",
        "    messages=[\n",
        "        {\n",
        "            \"role\": \"system\",\n",
        "            \"content\": \"You are a helpful assistant.\",\n",
        "        },\n",
        "        {\n",
        "            \"role\": \"user\",\n",
        "            \"content\": \"안녕\",\n",
        "        }\n",
        "    ],\n",
        "    max_tokens=4096,\n",
        "    temperature=1.0,\n",
        "    top_p=1.0,\n",
        "    model=deployment\n",
        ")\n",
        "\n",
        "print(response.choices[0].message.content)"
      ],
      "metadata": {
        "colab": {
          "base_uri": "https://localhost:8080/"
        },
        "id": "1xyTUNgfPXsW",
        "outputId": "8e3b20c5-151d-4bfd-defc-5bc6ce9f76bb"
      },
      "execution_count": 2,
      "outputs": [
        {
          "output_type": "stream",
          "name": "stdout",
          "text": [
            "안녕하세요! 어떻게 도와드릴까요?\n"
          ]
        }
      ]
    },
    {
      "cell_type": "markdown",
      "source": [
        "Text2SQL\n"
      ],
      "metadata": {
        "id": "HnTigf4nSfkC"
      }
    },
    {
      "cell_type": "code",
      "source": [
        "# Azure API 설정\n",
        "import os\n",
        "from openai import AzureOpenAI\n",
        "\n",
        "endpoint = \"https://yejin-maw8uq4a-swedencentral.cognitiveservices.azure.com/\"\n",
        "model_name = \"gpt-4o-mini\"\n",
        "deployment = \"gpt-4o-mini\"\n",
        "\n",
        "subscription_key = \"74K92fAi7MsnoW9rVQMxSB2EcPjDGgWGJyJensXyfFPpMdB6HZ0QJQQJ99BEACfhMk5XJ3w3AAAAACOGnrHY\"\n",
        "api_version = \"2024-12-01-preview\"\n",
        "\n",
        "client = AzureOpenAI(\n",
        "    api_version=api_version,\n",
        "    azure_endpoint=endpoint,\n",
        "    api_key=subscription_key,\n",
        ")\n",
        "\n",
        "def query_to_sql(question, schema):\n",
        "    prompt = f\"\"\"\n",
        "    아래의 스키마와 스키마 정보를 바탕으로, 질문에 대한 SQL 쿼리를 작성하세요.\n",
        "\n",
        "    질문: {question}\n",
        "    스키마: {schema}\n",
        "    스키마정보: {schema_info}\n",
        "    \"\"\"\n",
        "\n",
        "    # GPT API 호출하여 SQL 쿼리 생성\n",
        "    response = client.chat.completions.create(\n",
        "        messages=[\n",
        "            {\n",
        "                \"role\": \"system\",\n",
        "                \"content\": \"You are a chatbot that provides information on the main/sub/backup personnel of the business system of each company/affiliate.\",\n",
        "            },\n",
        "            {\n",
        "                \"role\": \"user\",\n",
        "                \"content\": prompt,\n",
        "            }\n",
        "        ],\n",
        "        max_tokens=4096,\n",
        "        temperature=1.0,\n",
        "        top_p=1.0,\n",
        "        model=deployment\n",
        "    )\n",
        "\n",
        "    sql_query = response.choices[0].message.content\n",
        "    return sql_query\n",
        "\n",
        "# 예시 스키마 정의 (SQL 테이블 정보)\n",
        "schema = \"\"\"\n",
        "system_manager(client_co_cd, co_cd, system, team, main_manager, sub_manager, backup_manager)\n",
        "\"\"\"\n",
        "schema_info = \"\"\" client_co_cd: 고객사/계열사, co_cd: 법인, system: 업무 시스템명, team: 시스템 담당자의 팀, main_manager: 정(main) 담당자, sub_manager: 부(sub) 담당자, backup_manager: 백업 담당자\"\"\"\n",
        "\n",
        "# 예시 질문\n",
        "question = \"한화큐셀 미국 달튼법인의 구매포탈 담당자는 누구인가요?\"\n",
        "\n",
        "# SQL 쿼리 생성\n",
        "sql_query = query_to_sql(question, schema)\n",
        "print(\"생성된 SQL 쿼리:\", sql_query)\n"
      ],
      "metadata": {
        "colab": {
          "base_uri": "https://localhost:8080/"
        },
        "id": "FFeT5wEmRHcr",
        "outputId": "520d6dc4-9e8b-4d49-cd3e-d2f8354a8fda"
      },
      "execution_count": 5,
      "outputs": [
        {
          "output_type": "stream",
          "name": "stdout",
          "text": [
            "생성된 SQL 쿼리: 한화큐셀 미국 달튼법인의 구매포탈 담당자를 찾기 위한 SQL 쿼리는 다음과 같습니다:\n",
            "\n",
            "```sql\n",
            "SELECT main_manager, sub_manager, backup_manager\n",
            "FROM system_manager\n",
            "WHERE client_co_cd = '한화큐셀' AND co_cd = '달튼' AND system = '구매포탈';\n",
            "```\n",
            "\n",
            "이 쿼리는 `system_manager` 테이블에서 한화큐셀의 달튼 법인이 담당하는 구매포탈의 주요 및 보조 담당자 정보를 선택합니다.\n"
          ]
        }
      ]
    }
  ],
  "metadata": {
    "colab": {
      "name": "Colab 시작하기",
      "toc_visible": true,
      "provenance": [],
      "include_colab_link": true
    },
    "kernelspec": {
      "display_name": "Python 3",
      "name": "python3"
    }
  },
  "nbformat": 4,
  "nbformat_minor": 0
}