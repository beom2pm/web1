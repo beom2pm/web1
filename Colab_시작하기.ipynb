{
  "cells": [
    {
      "cell_type": "markdown",
      "metadata": {
        "id": "view-in-github",
        "colab_type": "text"
      },
      "source": [
        "<a href=\"https://colab.research.google.com/github/beom2pm/web1/blob/master/Colab_%EC%8B%9C%EC%9E%91%ED%95%98%EA%B8%B0.ipynb\" target=\"_parent\"><img src=\"https://colab.research.google.com/assets/colab-badge.svg\" alt=\"Open In Colab\"/></a>"
      ]
    },
    {
      "cell_type": "markdown",
      "source": [
        "# 그래프"
      ],
      "metadata": {
        "id": "K1Tlxrw4miCt"
      }
    },
    {
      "cell_type": "markdown",
      "source": [
        "코드버전"
      ],
      "metadata": {
        "id": "EhrJAA7snaIw"
      }
    },
    {
      "cell_type": "code",
      "source": [
        "# ChartOCR 설치\n",
        "git clone https://github.com/pcuenq/ChartOCR.git\n",
        "cd ChartOCR\n",
        "pip install -r requirements.txt\n",
        "\n",
        "# PaddleOCR 설치\n",
        "pip install paddleocr\n",
        "pip install paddlepaddle -f https://www.paddlepaddle.org.cn/whl/paddle_cpu.html"
      ],
      "metadata": {
        "id": "q7-6F-6ZnNsE",
        "outputId": "720a320b-776e-4567-b771-b26079e411ff",
        "colab": {
          "base_uri": "https://localhost:8080/",
          "height": 109
        }
      },
      "execution_count": 7,
      "outputs": [
        {
          "output_type": "error",
          "ename": "SyntaxError",
          "evalue": "invalid syntax (<ipython-input-7-d19167236fa5>, line 3)",
          "traceback": [
            "\u001b[0;36m  File \u001b[0;32m\"<ipython-input-7-d19167236fa5>\"\u001b[0;36m, line \u001b[0;32m3\u001b[0m\n\u001b[0;31m    cd ChartOCR\u001b[0m\n\u001b[0m       ^\u001b[0m\n\u001b[0;31mSyntaxError\u001b[0m\u001b[0;31m:\u001b[0m invalid syntax\n"
          ]
        }
      ]
    },
    {
      "cell_type": "code",
      "source": [
        "코랩 버전"
      ],
      "metadata": {
        "id": "HHeNA-ESnbYB"
      },
      "execution_count": null,
      "outputs": []
    },
    {
      "cell_type": "code",
      "source": [
        "!pip show numpy"
      ],
      "metadata": {
        "id": "1P7Cmox2rZA1",
        "outputId": "2bea1aac-53c7-4ad3-8195-b3b84d45d7ac",
        "colab": {
          "base_uri": "https://localhost:8080/"
        }
      },
      "execution_count": 1,
      "outputs": [
        {
          "output_type": "stream",
          "name": "stdout",
          "text": [
            "Name: numpy\n",
            "Version: 1.24.3\n",
            "Summary: Fundamental package for array computing in Python\n",
            "Home-page: https://www.numpy.org\n",
            "Author: Travis E. Oliphant et al.\n",
            "Author-email: \n",
            "License: BSD-3-Clause\n",
            "Location: /usr/local/lib/python3.11/dist-packages\n",
            "Requires: \n",
            "Required-by: accelerate, albucore, albumentations, ale-py, arviz, astropy, autograd, bigframes, blis, blosc2, bokeh, Bottleneck, bqplot, chex, clarabel, cmdstanpy, contourpy, cudf-cu12, cufflinks, cuml-cu12, cupy-cuda12x, cuvs-cu12, cvxpy, cyipopt, dask-cuda, dask-cudf-cu12, datascience, datasets, db-dtypes, diffusers, dm-tree, dopamine_rl, flax, folium, geemap, geopandas, gym, gymnasium, h5py, hdbscan, highspy, holoviews, hyperopt, imageio, imbalanced-learn, jax, jaxlib, keras, keras-hub, langchain, langchain-community, libpysal, librosa, lightgbm, matplotlib, matplotlib-venn, missingno, mizani, ml-dtypes, mlxtend, moviepy, music21, nibabel, numba, numexpr, nx-cugraph-cu12, opencv-contrib-python, opencv-python, opencv-python-headless, opt-einsum, optax, orbax-checkpoint, osqp, paddlepaddle, paddlex, pandas, pandas-gbq, pandas-stubs, patsy, peft, plotnine, prophet, pycocotools, pyerfa, pylibcugraph-cu12, pylibraft-cu12, pymc, pyogrio, pytensor, python-louvain, PyWavelets, rmm-cu12, scikit-image, scikit-learn, scipy, scs, seaborn, shap, shapely, sklearn-pandas, soundfile, soxr, spacy, spanner-graph-notebook, stanio, statsmodels, stumpy, tables, tensorboard, tensorflow, tensorflow-datasets, tensorflow-hub, tensorflow-probability, tensorflow_decision_forests, tensorstore, thinc, tifffile, torchtune, torchvision, transformers, treelite, treescope, tsfresh, ucx-py-cu12, ucxx-cu12, umap-learn, wordcloud, xarray, xarray-einstats, xgboost, ydf, yellowbrick, yfinance\n"
          ]
        }
      ]
    },
    {
      "cell_type": "code",
      "source": [
        "# numpy 버전 다운그레이드\n",
        "!pip install numpy --upgrade"
      ],
      "metadata": {
        "id": "QNhm_bbwrMhB",
        "outputId": "0cd4249d-361d-4016-8c25-5e5aa1d430af",
        "colab": {
          "base_uri": "https://localhost:8080/"
        }
      },
      "execution_count": 22,
      "outputs": [
        {
          "output_type": "stream",
          "name": "stdout",
          "text": [
            "Requirement already satisfied: numpy in /usr/local/lib/python3.11/dist-packages (1.24.4)\n",
            "Collecting numpy\n",
            "  Downloading numpy-2.2.6-cp311-cp311-manylinux_2_17_x86_64.manylinux2014_x86_64.whl.metadata (62 kB)\n",
            "\u001b[2K     \u001b[90m━━━━━━━━━━━━━━━━━━━━━━━━━━━━━━━━━━━━━━━━\u001b[0m \u001b[32m62.0/62.0 kB\u001b[0m \u001b[31m1.9 MB/s\u001b[0m eta \u001b[36m0:00:00\u001b[0m\n",
            "\u001b[?25hDownloading numpy-2.2.6-cp311-cp311-manylinux_2_17_x86_64.manylinux2014_x86_64.whl (16.8 MB)\n",
            "\u001b[2K   \u001b[90m━━━━━━━━━━━━━━━━━━━━━━━━━━━━━━━━━━━━━━━━\u001b[0m \u001b[32m16.8/16.8 MB\u001b[0m \u001b[31m84.1 MB/s\u001b[0m eta \u001b[36m0:00:00\u001b[0m\n",
            "\u001b[?25hInstalling collected packages: numpy\n",
            "  Attempting uninstall: numpy\n",
            "    Found existing installation: numpy 1.24.4\n",
            "    Uninstalling numpy-1.24.4:\n",
            "      Successfully uninstalled numpy-1.24.4\n",
            "\u001b[31mERROR: pip's dependency resolver does not currently take into account all the packages that are installed. This behaviour is the source of the following dependency conflicts.\n",
            "langchain 0.2.17 requires numpy<2,>=1; python_version < \"3.12\", but you have numpy 2.2.6 which is incompatible.\n",
            "paddlex 3.0.0 requires numpy==1.24.4; python_version < \"3.12\", but you have numpy 2.2.6 which is incompatible.\n",
            "langchain-community 0.2.17 requires numpy<2,>=1; python_version < \"3.12\", but you have numpy 2.2.6 which is incompatible.\n",
            "google-colab 1.0.0 requires pandas==2.2.2, but you have pandas 1.5.3 which is incompatible.\n",
            "mizani 0.13.5 requires pandas>=2.2.0, but you have pandas 1.5.3 which is incompatible.\n",
            "xarray 2025.3.1 requires pandas>=2.1, but you have pandas 1.5.3 which is incompatible.\n",
            "tensorflow 2.18.0 requires numpy<2.1.0,>=1.26.0, but you have numpy 2.2.6 which is incompatible.\n",
            "transformers 4.51.3 requires tokenizers<0.22,>=0.21, but you have tokenizers 0.19.1 which is incompatible.\n",
            "dask-expr 1.1.21 requires pandas>=2, but you have pandas 1.5.3 which is incompatible.\n",
            "cudf-cu12 25.2.1 requires pandas<2.2.4dev0,>=2.0, but you have pandas 1.5.3 which is incompatible.\n",
            "dask-cudf-cu12 25.2.2 requires pandas<2.2.4dev0,>=2.0, but you have pandas 1.5.3 which is incompatible.\n",
            "plotnine 0.14.5 requires pandas>=2.2.0, but you have pandas 1.5.3 which is incompatible.\n",
            "numba 0.60.0 requires numpy<2.1,>=1.22, but you have numpy 2.2.6 which is incompatible.\u001b[0m\u001b[31m\n",
            "\u001b[0mSuccessfully installed numpy-2.2.6\n"
          ]
        }
      ]
    },
    {
      "cell_type": "code",
      "source": [
        "# 1. 기존 numpy 제거\n",
        "!pip uninstall numpy\n",
        "\n"
      ],
      "metadata": {
        "id": "d1UQMOdxsjaJ",
        "outputId": "22bb3f65-bf7c-47ff-c9bf-6028b1beaa2d",
        "colab": {
          "base_uri": "https://localhost:8080/"
        }
      },
      "execution_count": 1,
      "outputs": [
        {
          "output_type": "stream",
          "name": "stdout",
          "text": [
            "Found existing installation: numpy 1.24.3\n",
            "Uninstalling numpy-1.24.3:\n",
            "  Would remove:\n",
            "    /usr/local/bin/f2py\n",
            "    /usr/local/bin/f2py3\n",
            "    /usr/local/bin/f2py3.11\n",
            "    /usr/local/lib/python3.11/dist-packages/numpy-1.24.3.dist-info/*\n",
            "    /usr/local/lib/python3.11/dist-packages/numpy.libs/libgfortran-040039e1.so.5.0.0\n",
            "    /usr/local/lib/python3.11/dist-packages/numpy.libs/libopenblas64_p-r0-15028c96.3.21.so\n",
            "    /usr/local/lib/python3.11/dist-packages/numpy.libs/libquadmath-96973f99.so.0.0.0\n",
            "    /usr/local/lib/python3.11/dist-packages/numpy/*\n",
            "Proceed (Y/n)? ㅛ\n",
            "Your response ('ㅛ') was not one of the expected responses: y, n, \n",
            "Proceed (Y/n)? Y\n",
            "  Successfully uninstalled numpy-1.24.3\n"
          ]
        }
      ]
    },
    {
      "cell_type": "code",
      "source": [
        "# 2. 호환되는 numpy 버전 설치\n",
        "!pip install numpy==1.24.3"
      ],
      "metadata": {
        "id": "727_PPvSs1Gk",
        "outputId": "68e04363-af21-4141-a3d8-2413d2278ea9",
        "colab": {
          "base_uri": "https://localhost:8080/",
          "height": 569
        }
      },
      "execution_count": 2,
      "outputs": [
        {
          "output_type": "stream",
          "name": "stdout",
          "text": [
            "Collecting numpy==1.24.3\n",
            "  Using cached numpy-1.24.3-cp311-cp311-manylinux_2_17_x86_64.manylinux2014_x86_64.whl.metadata (5.6 kB)\n",
            "Using cached numpy-1.24.3-cp311-cp311-manylinux_2_17_x86_64.manylinux2014_x86_64.whl (17.3 MB)\n",
            "Installing collected packages: numpy\n",
            "\u001b[31mERROR: pip's dependency resolver does not currently take into account all the packages that are installed. This behaviour is the source of the following dependency conflicts.\n",
            "paddlex 3.0.0 requires numpy==1.24.4; python_version < \"3.12\", but you have numpy 1.24.3 which is incompatible.\n",
            "google-colab 1.0.0 requires pandas==2.2.2, but you have pandas 1.5.3 which is incompatible.\n",
            "jaxlib 0.5.1 requires numpy>=1.25, but you have numpy 1.24.3 which is incompatible.\n",
            "jax 0.5.2 requires numpy>=1.25, but you have numpy 1.24.3 which is incompatible.\n",
            "mizani 0.13.5 requires pandas>=2.2.0, but you have pandas 1.5.3 which is incompatible.\n",
            "xarray 2025.3.1 requires pandas>=2.1, but you have pandas 1.5.3 which is incompatible.\n",
            "tensorflow 2.18.0 requires numpy<2.1.0,>=1.26.0, but you have numpy 1.24.3 which is incompatible.\n",
            "blosc2 3.3.2 requires numpy>=1.26, but you have numpy 1.24.3 which is incompatible.\n",
            "transformers 4.51.3 requires tokenizers<0.22,>=0.21, but you have tokenizers 0.19.1 which is incompatible.\n",
            "dask-expr 1.1.21 requires pandas>=2, but you have pandas 1.5.3 which is incompatible.\n",
            "treescope 0.1.9 requires numpy>=1.25.2, but you have numpy 1.24.3 which is incompatible.\n",
            "cudf-cu12 25.2.1 requires pandas<2.2.4dev0,>=2.0, but you have pandas 1.5.3 which is incompatible.\n",
            "pymc 5.22.0 requires numpy>=1.25.0, but you have numpy 1.24.3 which is incompatible.\n",
            "dask-cudf-cu12 25.2.2 requires pandas<2.2.4dev0,>=2.0, but you have pandas 1.5.3 which is incompatible.\n",
            "thinc 8.3.6 requires numpy<3.0.0,>=2.0.0, but you have numpy 1.24.3 which is incompatible.\n",
            "albumentations 2.0.6 requires numpy>=1.24.4, but you have numpy 1.24.3 which is incompatible.\n",
            "plotnine 0.14.5 requires pandas>=2.2.0, but you have pandas 1.5.3 which is incompatible.\n",
            "albucore 0.0.24 requires numpy>=1.24.4, but you have numpy 1.24.3 which is incompatible.\u001b[0m\u001b[31m\n",
            "\u001b[0mSuccessfully installed numpy-1.24.3\n"
          ]
        },
        {
          "output_type": "display_data",
          "data": {
            "application/vnd.colab-display-data+json": {
              "pip_warning": {
                "packages": [
                  "numpy"
                ]
              },
              "id": "15c723b3f6c1477da22de57fb8d40c22"
            }
          },
          "metadata": {}
        }
      ]
    },
    {
      "cell_type": "code",
      "source": [
        "# 🛠️ PaddleOCR 설치\n",
        "!pip install paddlepaddle -f https://www.paddlepaddle.org.cn/whl/paddle_cpu.html\n",
        "!pip install paddleocr"
      ],
      "metadata": {
        "collapsed": true,
        "id": "CZFh8dGRnch2",
        "outputId": "ab3f7c19-4269-42d7-eb8f-34ca1ac4ce00",
        "colab": {
          "base_uri": "https://localhost:8080/"
        }
      },
      "execution_count": 2,
      "outputs": [
        {
          "output_type": "stream",
          "name": "stdout",
          "text": [
            "Looking in links: https://www.paddlepaddle.org.cn/whl/paddle_cpu.html\n",
            "Requirement already satisfied: paddlepaddle in /usr/local/lib/python3.11/dist-packages (3.0.0)\n",
            "Requirement already satisfied: httpx in /usr/local/lib/python3.11/dist-packages (from paddlepaddle) (0.28.1)\n",
            "Requirement already satisfied: numpy>=1.21 in /usr/local/lib/python3.11/dist-packages (from paddlepaddle) (1.24.4)\n",
            "Requirement already satisfied: protobuf>=3.20.2 in /usr/local/lib/python3.11/dist-packages (from paddlepaddle) (5.29.4)\n",
            "Requirement already satisfied: Pillow in /usr/local/lib/python3.11/dist-packages (from paddlepaddle) (11.2.1)\n",
            "Requirement already satisfied: decorator in /usr/local/lib/python3.11/dist-packages (from paddlepaddle) (4.4.2)\n",
            "Requirement already satisfied: astor in /usr/local/lib/python3.11/dist-packages (from paddlepaddle) (0.8.1)\n",
            "Requirement already satisfied: opt_einsum==3.3.0 in /usr/local/lib/python3.11/dist-packages (from paddlepaddle) (3.3.0)\n",
            "Requirement already satisfied: networkx in /usr/local/lib/python3.11/dist-packages (from paddlepaddle) (3.4.2)\n",
            "Requirement already satisfied: typing_extensions in /usr/local/lib/python3.11/dist-packages (from paddlepaddle) (4.13.2)\n",
            "Requirement already satisfied: anyio in /usr/local/lib/python3.11/dist-packages (from httpx->paddlepaddle) (4.9.0)\n",
            "Requirement already satisfied: certifi in /usr/local/lib/python3.11/dist-packages (from httpx->paddlepaddle) (2025.4.26)\n",
            "Requirement already satisfied: httpcore==1.* in /usr/local/lib/python3.11/dist-packages (from httpx->paddlepaddle) (1.0.9)\n",
            "Requirement already satisfied: idna in /usr/local/lib/python3.11/dist-packages (from httpx->paddlepaddle) (3.10)\n",
            "Requirement already satisfied: h11>=0.16 in /usr/local/lib/python3.11/dist-packages (from httpcore==1.*->httpx->paddlepaddle) (0.16.0)\n",
            "Requirement already satisfied: sniffio>=1.1 in /usr/local/lib/python3.11/dist-packages (from anyio->httpx->paddlepaddle) (1.3.1)\n",
            "Requirement already satisfied: paddleocr in /usr/local/lib/python3.11/dist-packages (3.0.0)\n",
            "Requirement already satisfied: paddlex==3.0.0 in /usr/local/lib/python3.11/dist-packages (from paddlex[ie,multimodal,ocr]==3.0.0->paddleocr) (3.0.0)\n",
            "Requirement already satisfied: PyYAML>=6 in /usr/local/lib/python3.11/dist-packages (from paddleocr) (6.0.2)\n",
            "Requirement already satisfied: typing-extensions>=4.12 in /usr/local/lib/python3.11/dist-packages (from paddleocr) (4.13.2)\n",
            "Requirement already satisfied: chardet in /usr/local/lib/python3.11/dist-packages (from paddlex==3.0.0->paddlex[ie,multimodal,ocr]==3.0.0->paddleocr) (5.2.0)\n",
            "Requirement already satisfied: colorlog in /usr/local/lib/python3.11/dist-packages (from paddlex==3.0.0->paddlex[ie,multimodal,ocr]==3.0.0->paddleocr) (6.9.0)\n",
            "Requirement already satisfied: filelock in /usr/local/lib/python3.11/dist-packages (from paddlex==3.0.0->paddlex[ie,multimodal,ocr]==3.0.0->paddleocr) (3.18.0)\n",
            "Requirement already satisfied: GPUtil>=1.4 in /usr/local/lib/python3.11/dist-packages (from paddlex==3.0.0->paddlex[ie,multimodal,ocr]==3.0.0->paddleocr) (1.4.0)\n",
            "Requirement already satisfied: numpy==1.24.4 in /usr/local/lib/python3.11/dist-packages (from paddlex==3.0.0->paddlex[ie,multimodal,ocr]==3.0.0->paddleocr) (1.24.4)\n",
            "Requirement already satisfied: packaging in /usr/local/lib/python3.11/dist-packages (from paddlex==3.0.0->paddlex[ie,multimodal,ocr]==3.0.0->paddleocr) (24.2)\n",
            "Requirement already satisfied: pandas<=1.5.3 in /usr/local/lib/python3.11/dist-packages (from paddlex==3.0.0->paddlex[ie,multimodal,ocr]==3.0.0->paddleocr) (1.5.3)\n",
            "Requirement already satisfied: pillow in /usr/local/lib/python3.11/dist-packages (from paddlex==3.0.0->paddlex[ie,multimodal,ocr]==3.0.0->paddleocr) (11.2.1)\n",
            "Requirement already satisfied: prettytable in /usr/local/lib/python3.11/dist-packages (from paddlex==3.0.0->paddlex[ie,multimodal,ocr]==3.0.0->paddleocr) (3.16.0)\n",
            "Requirement already satisfied: py-cpuinfo in /usr/local/lib/python3.11/dist-packages (from paddlex==3.0.0->paddlex[ie,multimodal,ocr]==3.0.0->paddleocr) (9.0.0)\n",
            "Requirement already satisfied: pydantic>=2 in /usr/local/lib/python3.11/dist-packages (from paddlex==3.0.0->paddlex[ie,multimodal,ocr]==3.0.0->paddleocr) (2.11.4)\n",
            "Requirement already satisfied: requests in /usr/local/lib/python3.11/dist-packages (from paddlex==3.0.0->paddlex[ie,multimodal,ocr]==3.0.0->paddleocr) (2.32.3)\n",
            "Requirement already satisfied: ruamel.yaml in /usr/local/lib/python3.11/dist-packages (from paddlex==3.0.0->paddlex[ie,multimodal,ocr]==3.0.0->paddleocr) (0.18.10)\n",
            "Requirement already satisfied: ujson in /usr/local/lib/python3.11/dist-packages (from paddlex==3.0.0->paddlex[ie,multimodal,ocr]==3.0.0->paddleocr) (5.10.0)\n",
            "Requirement already satisfied: einops in /usr/local/lib/python3.11/dist-packages (from paddlex[ie,multimodal,ocr]==3.0.0->paddleocr) (0.8.1)\n",
            "Requirement already satisfied: ftfy in /usr/local/lib/python3.11/dist-packages (from paddlex[ie,multimodal,ocr]==3.0.0->paddleocr) (6.3.1)\n",
            "Requirement already satisfied: Jinja2 in /usr/local/lib/python3.11/dist-packages (from paddlex[ie,multimodal,ocr]==3.0.0->paddleocr) (3.1.6)\n",
            "Requirement already satisfied: opencv-contrib-python==4.10.0.84 in /usr/local/lib/python3.11/dist-packages (from paddlex[ie,multimodal,ocr]==3.0.0->paddleocr) (4.10.0.84)\n",
            "Requirement already satisfied: pypdfium2>=4 in /usr/local/lib/python3.11/dist-packages (from paddlex[ie,multimodal,ocr]==3.0.0->paddleocr) (4.30.1)\n",
            "Requirement already satisfied: regex in /usr/local/lib/python3.11/dist-packages (from paddlex[ie,multimodal,ocr]==3.0.0->paddleocr) (2024.11.6)\n",
            "Requirement already satisfied: tiktoken in /usr/local/lib/python3.11/dist-packages (from paddlex[ie,multimodal,ocr]==3.0.0->paddleocr) (0.9.0)\n",
            "Requirement already satisfied: imagesize in /usr/local/lib/python3.11/dist-packages (from paddlex[ie,multimodal,ocr]==3.0.0->paddleocr) (1.4.1)\n",
            "Requirement already satisfied: langchain==0.2.17 in /usr/local/lib/python3.11/dist-packages (from paddlex[ie,multimodal,ocr]==3.0.0->paddleocr) (0.2.17)\n",
            "Requirement already satisfied: langchain-community==0.2.17 in /usr/local/lib/python3.11/dist-packages (from paddlex[ie,multimodal,ocr]==3.0.0->paddleocr) (0.2.17)\n",
            "Requirement already satisfied: langchain-core in /usr/local/lib/python3.11/dist-packages (from paddlex[ie,multimodal,ocr]==3.0.0->paddleocr) (0.2.43)\n",
            "Requirement already satisfied: langchain-openai==0.1.25 in /usr/local/lib/python3.11/dist-packages (from paddlex[ie,multimodal,ocr]==3.0.0->paddleocr) (0.1.25)\n",
            "Requirement already satisfied: lxml in /usr/local/lib/python3.11/dist-packages (from paddlex[ie,multimodal,ocr]==3.0.0->paddleocr) (5.4.0)\n",
            "Requirement already satisfied: openai==1.63.2 in /usr/local/lib/python3.11/dist-packages (from paddlex[ie,multimodal,ocr]==3.0.0->paddleocr) (1.63.2)\n",
            "Requirement already satisfied: openpyxl in /usr/local/lib/python3.11/dist-packages (from paddlex[ie,multimodal,ocr]==3.0.0->paddleocr) (3.1.5)\n",
            "Requirement already satisfied: premailer in /usr/local/lib/python3.11/dist-packages (from paddlex[ie,multimodal,ocr]==3.0.0->paddleocr) (3.10.0)\n",
            "Requirement already satisfied: pyclipper in /usr/local/lib/python3.11/dist-packages (from paddlex[ie,multimodal,ocr]==3.0.0->paddleocr) (1.3.0.post6)\n",
            "Requirement already satisfied: scikit-learn in /usr/local/lib/python3.11/dist-packages (from paddlex[ie,multimodal,ocr]==3.0.0->paddleocr) (1.6.1)\n",
            "Requirement already satisfied: shapely in /usr/local/lib/python3.11/dist-packages (from paddlex[ie,multimodal,ocr]==3.0.0->paddleocr) (2.1.0)\n",
            "Requirement already satisfied: tokenizers==0.19.1 in /usr/local/lib/python3.11/dist-packages (from paddlex[ie,multimodal,ocr]==3.0.0->paddleocr) (0.19.1)\n",
            "Requirement already satisfied: SQLAlchemy<3,>=1.4 in /usr/local/lib/python3.11/dist-packages (from langchain==0.2.17->paddlex[ie,multimodal,ocr]==3.0.0->paddleocr) (2.0.40)\n",
            "Requirement already satisfied: aiohttp<4.0.0,>=3.8.3 in /usr/local/lib/python3.11/dist-packages (from langchain==0.2.17->paddlex[ie,multimodal,ocr]==3.0.0->paddleocr) (3.11.15)\n",
            "Requirement already satisfied: langchain-text-splitters<0.3.0,>=0.2.0 in /usr/local/lib/python3.11/dist-packages (from langchain==0.2.17->paddlex[ie,multimodal,ocr]==3.0.0->paddleocr) (0.2.4)\n",
            "Requirement already satisfied: langsmith<0.2.0,>=0.1.17 in /usr/local/lib/python3.11/dist-packages (from langchain==0.2.17->paddlex[ie,multimodal,ocr]==3.0.0->paddleocr) (0.1.147)\n",
            "Requirement already satisfied: tenacity!=8.4.0,<9.0.0,>=8.1.0 in /usr/local/lib/python3.11/dist-packages (from langchain==0.2.17->paddlex[ie,multimodal,ocr]==3.0.0->paddleocr) (8.5.0)\n",
            "Requirement already satisfied: dataclasses-json<0.7,>=0.5.7 in /usr/local/lib/python3.11/dist-packages (from langchain-community==0.2.17->paddlex[ie,multimodal,ocr]==3.0.0->paddleocr) (0.6.7)\n",
            "Requirement already satisfied: anyio<5,>=3.5.0 in /usr/local/lib/python3.11/dist-packages (from openai==1.63.2->paddlex[ie,multimodal,ocr]==3.0.0->paddleocr) (4.9.0)\n",
            "Requirement already satisfied: distro<2,>=1.7.0 in /usr/local/lib/python3.11/dist-packages (from openai==1.63.2->paddlex[ie,multimodal,ocr]==3.0.0->paddleocr) (1.9.0)\n",
            "Requirement already satisfied: httpx<1,>=0.23.0 in /usr/local/lib/python3.11/dist-packages (from openai==1.63.2->paddlex[ie,multimodal,ocr]==3.0.0->paddleocr) (0.28.1)\n",
            "Requirement already satisfied: jiter<1,>=0.4.0 in /usr/local/lib/python3.11/dist-packages (from openai==1.63.2->paddlex[ie,multimodal,ocr]==3.0.0->paddleocr) (0.9.0)\n",
            "Requirement already satisfied: sniffio in /usr/local/lib/python3.11/dist-packages (from openai==1.63.2->paddlex[ie,multimodal,ocr]==3.0.0->paddleocr) (1.3.1)\n",
            "Requirement already satisfied: tqdm>4 in /usr/local/lib/python3.11/dist-packages (from openai==1.63.2->paddlex[ie,multimodal,ocr]==3.0.0->paddleocr) (4.67.1)\n",
            "Requirement already satisfied: huggingface-hub<1.0,>=0.16.4 in /usr/local/lib/python3.11/dist-packages (from tokenizers==0.19.1->paddlex[ie,multimodal,ocr]==3.0.0->paddleocr) (0.31.2)\n",
            "Requirement already satisfied: jsonpatch<2.0,>=1.33 in /usr/local/lib/python3.11/dist-packages (from langchain-core->paddlex[ie,multimodal,ocr]==3.0.0->paddleocr) (1.33)\n",
            "Requirement already satisfied: python-dateutil>=2.8.1 in /usr/local/lib/python3.11/dist-packages (from pandas<=1.5.3->paddlex==3.0.0->paddlex[ie,multimodal,ocr]==3.0.0->paddleocr) (2.9.0.post0)\n",
            "Requirement already satisfied: pytz>=2020.1 in /usr/local/lib/python3.11/dist-packages (from pandas<=1.5.3->paddlex==3.0.0->paddlex[ie,multimodal,ocr]==3.0.0->paddleocr) (2025.2)\n",
            "Requirement already satisfied: annotated-types>=0.6.0 in /usr/local/lib/python3.11/dist-packages (from pydantic>=2->paddlex==3.0.0->paddlex[ie,multimodal,ocr]==3.0.0->paddleocr) (0.7.0)\n",
            "Requirement already satisfied: pydantic-core==2.33.2 in /usr/local/lib/python3.11/dist-packages (from pydantic>=2->paddlex==3.0.0->paddlex[ie,multimodal,ocr]==3.0.0->paddleocr) (2.33.2)\n",
            "Requirement already satisfied: typing-inspection>=0.4.0 in /usr/local/lib/python3.11/dist-packages (from pydantic>=2->paddlex==3.0.0->paddlex[ie,multimodal,ocr]==3.0.0->paddleocr) (0.4.0)\n",
            "Requirement already satisfied: charset-normalizer<4,>=2 in /usr/local/lib/python3.11/dist-packages (from requests->paddlex==3.0.0->paddlex[ie,multimodal,ocr]==3.0.0->paddleocr) (3.4.2)\n",
            "Requirement already satisfied: idna<4,>=2.5 in /usr/local/lib/python3.11/dist-packages (from requests->paddlex==3.0.0->paddlex[ie,multimodal,ocr]==3.0.0->paddleocr) (3.10)\n",
            "Requirement already satisfied: urllib3<3,>=1.21.1 in /usr/local/lib/python3.11/dist-packages (from requests->paddlex==3.0.0->paddlex[ie,multimodal,ocr]==3.0.0->paddleocr) (2.4.0)\n",
            "Requirement already satisfied: certifi>=2017.4.17 in /usr/local/lib/python3.11/dist-packages (from requests->paddlex==3.0.0->paddlex[ie,multimodal,ocr]==3.0.0->paddleocr) (2025.4.26)\n",
            "Requirement already satisfied: wcwidth in /usr/local/lib/python3.11/dist-packages (from ftfy->paddlex[ie,multimodal,ocr]==3.0.0->paddleocr) (0.2.13)\n",
            "Requirement already satisfied: MarkupSafe>=2.0 in /usr/local/lib/python3.11/dist-packages (from Jinja2->paddlex[ie,multimodal,ocr]==3.0.0->paddleocr) (3.0.2)\n",
            "Requirement already satisfied: et-xmlfile in /usr/local/lib/python3.11/dist-packages (from openpyxl->paddlex[ie,multimodal,ocr]==3.0.0->paddleocr) (2.0.0)\n",
            "Requirement already satisfied: cssselect in /usr/local/lib/python3.11/dist-packages (from premailer->paddlex[ie,multimodal,ocr]==3.0.0->paddleocr) (1.3.0)\n",
            "Requirement already satisfied: cssutils in /usr/local/lib/python3.11/dist-packages (from premailer->paddlex[ie,multimodal,ocr]==3.0.0->paddleocr) (2.11.1)\n",
            "Requirement already satisfied: cachetools in /usr/local/lib/python3.11/dist-packages (from premailer->paddlex[ie,multimodal,ocr]==3.0.0->paddleocr) (5.5.2)\n",
            "Requirement already satisfied: ruamel.yaml.clib>=0.2.7 in /usr/local/lib/python3.11/dist-packages (from ruamel.yaml->paddlex==3.0.0->paddlex[ie,multimodal,ocr]==3.0.0->paddleocr) (0.2.12)\n",
            "Requirement already satisfied: scipy>=1.6.0 in /usr/local/lib/python3.11/dist-packages (from scikit-learn->paddlex[ie,multimodal,ocr]==3.0.0->paddleocr) (1.15.3)\n",
            "Requirement already satisfied: joblib>=1.2.0 in /usr/local/lib/python3.11/dist-packages (from scikit-learn->paddlex[ie,multimodal,ocr]==3.0.0->paddleocr) (1.5.0)\n",
            "Requirement already satisfied: threadpoolctl>=3.1.0 in /usr/local/lib/python3.11/dist-packages (from scikit-learn->paddlex[ie,multimodal,ocr]==3.0.0->paddleocr) (3.6.0)\n",
            "Requirement already satisfied: aiohappyeyeballs>=2.3.0 in /usr/local/lib/python3.11/dist-packages (from aiohttp<4.0.0,>=3.8.3->langchain==0.2.17->paddlex[ie,multimodal,ocr]==3.0.0->paddleocr) (2.6.1)\n",
            "Requirement already satisfied: aiosignal>=1.1.2 in /usr/local/lib/python3.11/dist-packages (from aiohttp<4.0.0,>=3.8.3->langchain==0.2.17->paddlex[ie,multimodal,ocr]==3.0.0->paddleocr) (1.3.2)\n",
            "Requirement already satisfied: attrs>=17.3.0 in /usr/local/lib/python3.11/dist-packages (from aiohttp<4.0.0,>=3.8.3->langchain==0.2.17->paddlex[ie,multimodal,ocr]==3.0.0->paddleocr) (25.3.0)\n",
            "Requirement already satisfied: frozenlist>=1.1.1 in /usr/local/lib/python3.11/dist-packages (from aiohttp<4.0.0,>=3.8.3->langchain==0.2.17->paddlex[ie,multimodal,ocr]==3.0.0->paddleocr) (1.6.0)\n",
            "Requirement already satisfied: multidict<7.0,>=4.5 in /usr/local/lib/python3.11/dist-packages (from aiohttp<4.0.0,>=3.8.3->langchain==0.2.17->paddlex[ie,multimodal,ocr]==3.0.0->paddleocr) (6.4.3)\n",
            "Requirement already satisfied: propcache>=0.2.0 in /usr/local/lib/python3.11/dist-packages (from aiohttp<4.0.0,>=3.8.3->langchain==0.2.17->paddlex[ie,multimodal,ocr]==3.0.0->paddleocr) (0.3.1)\n",
            "Requirement already satisfied: yarl<2.0,>=1.17.0 in /usr/local/lib/python3.11/dist-packages (from aiohttp<4.0.0,>=3.8.3->langchain==0.2.17->paddlex[ie,multimodal,ocr]==3.0.0->paddleocr) (1.20.0)\n",
            "Requirement already satisfied: marshmallow<4.0.0,>=3.18.0 in /usr/local/lib/python3.11/dist-packages (from dataclasses-json<0.7,>=0.5.7->langchain-community==0.2.17->paddlex[ie,multimodal,ocr]==3.0.0->paddleocr) (3.26.1)\n",
            "Requirement already satisfied: typing-inspect<1,>=0.4.0 in /usr/local/lib/python3.11/dist-packages (from dataclasses-json<0.7,>=0.5.7->langchain-community==0.2.17->paddlex[ie,multimodal,ocr]==3.0.0->paddleocr) (0.9.0)\n",
            "Requirement already satisfied: httpcore==1.* in /usr/local/lib/python3.11/dist-packages (from httpx<1,>=0.23.0->openai==1.63.2->paddlex[ie,multimodal,ocr]==3.0.0->paddleocr) (1.0.9)\n",
            "Requirement already satisfied: h11>=0.16 in /usr/local/lib/python3.11/dist-packages (from httpcore==1.*->httpx<1,>=0.23.0->openai==1.63.2->paddlex[ie,multimodal,ocr]==3.0.0->paddleocr) (0.16.0)\n",
            "Requirement already satisfied: fsspec>=2023.5.0 in /usr/local/lib/python3.11/dist-packages (from huggingface-hub<1.0,>=0.16.4->tokenizers==0.19.1->paddlex[ie,multimodal,ocr]==3.0.0->paddleocr) (2025.3.2)\n",
            "Requirement already satisfied: jsonpointer>=1.9 in /usr/local/lib/python3.11/dist-packages (from jsonpatch<2.0,>=1.33->langchain-core->paddlex[ie,multimodal,ocr]==3.0.0->paddleocr) (3.0.0)\n",
            "Requirement already satisfied: orjson<4.0.0,>=3.9.14 in /usr/local/lib/python3.11/dist-packages (from langsmith<0.2.0,>=0.1.17->langchain==0.2.17->paddlex[ie,multimodal,ocr]==3.0.0->paddleocr) (3.10.18)\n",
            "Requirement already satisfied: requests-toolbelt<2.0.0,>=1.0.0 in /usr/local/lib/python3.11/dist-packages (from langsmith<0.2.0,>=0.1.17->langchain==0.2.17->paddlex[ie,multimodal,ocr]==3.0.0->paddleocr) (1.0.0)\n",
            "Requirement already satisfied: six>=1.5 in /usr/local/lib/python3.11/dist-packages (from python-dateutil>=2.8.1->pandas<=1.5.3->paddlex==3.0.0->paddlex[ie,multimodal,ocr]==3.0.0->paddleocr) (1.17.0)\n",
            "Requirement already satisfied: greenlet>=1 in /usr/local/lib/python3.11/dist-packages (from SQLAlchemy<3,>=1.4->langchain==0.2.17->paddlex[ie,multimodal,ocr]==3.0.0->paddleocr) (3.2.2)\n",
            "Requirement already satisfied: more-itertools in /usr/local/lib/python3.11/dist-packages (from cssutils->premailer->paddlex[ie,multimodal,ocr]==3.0.0->paddleocr) (10.7.0)\n",
            "Requirement already satisfied: mypy-extensions>=0.3.0 in /usr/local/lib/python3.11/dist-packages (from typing-inspect<1,>=0.4.0->dataclasses-json<0.7,>=0.5.7->langchain-community==0.2.17->paddlex[ie,multimodal,ocr]==3.0.0->paddleocr) (1.1.0)\n"
          ]
        }
      ]
    },
    {
      "cell_type": "code",
      "source": [
        "!pip install paddlepaddle"
      ],
      "metadata": {
        "id": "Bm6-yPmHq9Db",
        "outputId": "2c4b2e4d-a0a2-4f74-e2db-e9da275e25ea",
        "colab": {
          "base_uri": "https://localhost:8080/"
        }
      },
      "execution_count": 18,
      "outputs": [
        {
          "output_type": "stream",
          "name": "stdout",
          "text": [
            "Requirement already satisfied: paddlepaddle in /usr/local/lib/python3.11/dist-packages (3.0.0)\n",
            "Requirement already satisfied: httpx in /usr/local/lib/python3.11/dist-packages (from paddlepaddle) (0.28.1)\n",
            "Requirement already satisfied: numpy>=1.21 in /usr/local/lib/python3.11/dist-packages (from paddlepaddle) (1.24.4)\n",
            "Requirement already satisfied: protobuf>=3.20.2 in /usr/local/lib/python3.11/dist-packages (from paddlepaddle) (5.29.4)\n",
            "Requirement already satisfied: Pillow in /usr/local/lib/python3.11/dist-packages (from paddlepaddle) (11.2.1)\n",
            "Requirement already satisfied: decorator in /usr/local/lib/python3.11/dist-packages (from paddlepaddle) (4.4.2)\n",
            "Requirement already satisfied: astor in /usr/local/lib/python3.11/dist-packages (from paddlepaddle) (0.8.1)\n",
            "Requirement already satisfied: opt_einsum==3.3.0 in /usr/local/lib/python3.11/dist-packages (from paddlepaddle) (3.3.0)\n",
            "Requirement already satisfied: networkx in /usr/local/lib/python3.11/dist-packages (from paddlepaddle) (3.4.2)\n",
            "Requirement already satisfied: typing_extensions in /usr/local/lib/python3.11/dist-packages (from paddlepaddle) (4.13.2)\n",
            "Requirement already satisfied: anyio in /usr/local/lib/python3.11/dist-packages (from httpx->paddlepaddle) (4.9.0)\n",
            "Requirement already satisfied: certifi in /usr/local/lib/python3.11/dist-packages (from httpx->paddlepaddle) (2025.4.26)\n",
            "Requirement already satisfied: httpcore==1.* in /usr/local/lib/python3.11/dist-packages (from httpx->paddlepaddle) (1.0.9)\n",
            "Requirement already satisfied: idna in /usr/local/lib/python3.11/dist-packages (from httpx->paddlepaddle) (3.10)\n",
            "Requirement already satisfied: h11>=0.16 in /usr/local/lib/python3.11/dist-packages (from httpcore==1.*->httpx->paddlepaddle) (0.16.0)\n",
            "Requirement already satisfied: sniffio>=1.1 in /usr/local/lib/python3.11/dist-packages (from anyio->httpx->paddlepaddle) (1.3.1)\n"
          ]
        }
      ]
    },
    {
      "cell_type": "code",
      "source": [
        "# 🛠️ ChartOCR 설치 (Colab 경로 주의)\n",
        "# !git clone https://github.com/pcuenq/ChartOCR.git\n",
        "# !wget https://github.com/pcuenq/ChartOCR/archive/refs/heads/main.zip"
      ],
      "metadata": {
        "id": "z-RpytounzcA",
        "outputId": "43b8ed42-66f0-4aa5-98c9-883d8f8e6a2b",
        "colab": {
          "base_uri": "https://localhost:8080/"
        }
      },
      "execution_count": 13,
      "outputs": [
        {
          "output_type": "stream",
          "name": "stdout",
          "text": [
            "--2025-05-22 01:35:12--  https://github.com/pcuenq/ChartOCR/archive/refs/heads/main.zip\n",
            "Resolving github.com (github.com)... 140.82.112.4\n",
            "Connecting to github.com (github.com)|140.82.112.4|:443... connected.\n",
            "HTTP request sent, awaiting response... 404 Not Found\n",
            "2025-05-22 01:35:12 ERROR 404: Not Found.\n",
            "\n"
          ]
        }
      ]
    },
    {
      "cell_type": "markdown",
      "source": [
        "easyocr 사용 #chartocr은 사라진 것 같음\n"
      ],
      "metadata": {
        "id": "PqkT9oPXpFjH"
      }
    },
    {
      "cell_type": "code",
      "source": [
        "!pip install easyocr"
      ],
      "metadata": {
        "collapsed": true,
        "id": "5lN6ApYMoCxw",
        "outputId": "2b9d9d0f-9631-4f2e-873f-0b3daa0959ff",
        "colab": {
          "base_uri": "https://localhost:8080/"
        }
      },
      "execution_count": 3,
      "outputs": [
        {
          "output_type": "stream",
          "name": "stdout",
          "text": [
            "Collecting easyocr\n",
            "  Downloading easyocr-1.7.2-py3-none-any.whl.metadata (10 kB)\n",
            "Requirement already satisfied: torch in /usr/local/lib/python3.11/dist-packages (from easyocr) (2.6.0+cu124)\n",
            "Requirement already satisfied: torchvision>=0.5 in /usr/local/lib/python3.11/dist-packages (from easyocr) (0.21.0+cu124)\n",
            "Requirement already satisfied: opencv-python-headless in /usr/local/lib/python3.11/dist-packages (from easyocr) (4.11.0.86)\n",
            "Requirement already satisfied: scipy in /usr/local/lib/python3.11/dist-packages (from easyocr) (1.15.3)\n",
            "Requirement already satisfied: numpy in /usr/local/lib/python3.11/dist-packages (from easyocr) (1.24.4)\n",
            "Requirement already satisfied: Pillow in /usr/local/lib/python3.11/dist-packages (from easyocr) (11.2.1)\n",
            "Requirement already satisfied: scikit-image in /usr/local/lib/python3.11/dist-packages (from easyocr) (0.25.2)\n",
            "Collecting python-bidi (from easyocr)\n",
            "  Downloading python_bidi-0.6.6-cp311-cp311-manylinux_2_17_x86_64.manylinux2014_x86_64.whl.metadata (4.9 kB)\n",
            "Requirement already satisfied: PyYAML in /usr/local/lib/python3.11/dist-packages (from easyocr) (6.0.2)\n",
            "Requirement already satisfied: Shapely in /usr/local/lib/python3.11/dist-packages (from easyocr) (2.1.0)\n",
            "Requirement already satisfied: pyclipper in /usr/local/lib/python3.11/dist-packages (from easyocr) (1.3.0.post6)\n",
            "Collecting ninja (from easyocr)\n",
            "  Downloading ninja-1.11.1.4-py3-none-manylinux_2_12_x86_64.manylinux2010_x86_64.whl.metadata (5.0 kB)\n",
            "Requirement already satisfied: filelock in /usr/local/lib/python3.11/dist-packages (from torch->easyocr) (3.18.0)\n",
            "Requirement already satisfied: typing-extensions>=4.10.0 in /usr/local/lib/python3.11/dist-packages (from torch->easyocr) (4.13.2)\n",
            "Requirement already satisfied: networkx in /usr/local/lib/python3.11/dist-packages (from torch->easyocr) (3.4.2)\n",
            "Requirement already satisfied: jinja2 in /usr/local/lib/python3.11/dist-packages (from torch->easyocr) (3.1.6)\n",
            "Requirement already satisfied: fsspec in /usr/local/lib/python3.11/dist-packages (from torch->easyocr) (2025.3.2)\n",
            "Collecting nvidia-cuda-nvrtc-cu12==12.4.127 (from torch->easyocr)\n",
            "  Downloading nvidia_cuda_nvrtc_cu12-12.4.127-py3-none-manylinux2014_x86_64.whl.metadata (1.5 kB)\n",
            "Collecting nvidia-cuda-runtime-cu12==12.4.127 (from torch->easyocr)\n",
            "  Downloading nvidia_cuda_runtime_cu12-12.4.127-py3-none-manylinux2014_x86_64.whl.metadata (1.5 kB)\n",
            "Collecting nvidia-cuda-cupti-cu12==12.4.127 (from torch->easyocr)\n",
            "  Downloading nvidia_cuda_cupti_cu12-12.4.127-py3-none-manylinux2014_x86_64.whl.metadata (1.6 kB)\n",
            "Collecting nvidia-cudnn-cu12==9.1.0.70 (from torch->easyocr)\n",
            "  Downloading nvidia_cudnn_cu12-9.1.0.70-py3-none-manylinux2014_x86_64.whl.metadata (1.6 kB)\n",
            "Collecting nvidia-cublas-cu12==12.4.5.8 (from torch->easyocr)\n",
            "  Downloading nvidia_cublas_cu12-12.4.5.8-py3-none-manylinux2014_x86_64.whl.metadata (1.5 kB)\n",
            "Collecting nvidia-cufft-cu12==11.2.1.3 (from torch->easyocr)\n",
            "  Downloading nvidia_cufft_cu12-11.2.1.3-py3-none-manylinux2014_x86_64.whl.metadata (1.5 kB)\n",
            "Collecting nvidia-curand-cu12==10.3.5.147 (from torch->easyocr)\n",
            "  Downloading nvidia_curand_cu12-10.3.5.147-py3-none-manylinux2014_x86_64.whl.metadata (1.5 kB)\n",
            "Collecting nvidia-cusolver-cu12==11.6.1.9 (from torch->easyocr)\n",
            "  Downloading nvidia_cusolver_cu12-11.6.1.9-py3-none-manylinux2014_x86_64.whl.metadata (1.6 kB)\n",
            "Collecting nvidia-cusparse-cu12==12.3.1.170 (from torch->easyocr)\n",
            "  Downloading nvidia_cusparse_cu12-12.3.1.170-py3-none-manylinux2014_x86_64.whl.metadata (1.6 kB)\n",
            "Requirement already satisfied: nvidia-cusparselt-cu12==0.6.2 in /usr/local/lib/python3.11/dist-packages (from torch->easyocr) (0.6.2)\n",
            "Requirement already satisfied: nvidia-nccl-cu12==2.21.5 in /usr/local/lib/python3.11/dist-packages (from torch->easyocr) (2.21.5)\n",
            "Requirement already satisfied: nvidia-nvtx-cu12==12.4.127 in /usr/local/lib/python3.11/dist-packages (from torch->easyocr) (12.4.127)\n",
            "Collecting nvidia-nvjitlink-cu12==12.4.127 (from torch->easyocr)\n",
            "  Downloading nvidia_nvjitlink_cu12-12.4.127-py3-none-manylinux2014_x86_64.whl.metadata (1.5 kB)\n",
            "Requirement already satisfied: triton==3.2.0 in /usr/local/lib/python3.11/dist-packages (from torch->easyocr) (3.2.0)\n",
            "Requirement already satisfied: sympy==1.13.1 in /usr/local/lib/python3.11/dist-packages (from torch->easyocr) (1.13.1)\n",
            "Requirement already satisfied: mpmath<1.4,>=1.1.0 in /usr/local/lib/python3.11/dist-packages (from sympy==1.13.1->torch->easyocr) (1.3.0)\n",
            "Requirement already satisfied: imageio!=2.35.0,>=2.33 in /usr/local/lib/python3.11/dist-packages (from scikit-image->easyocr) (2.37.0)\n",
            "Requirement already satisfied: tifffile>=2022.8.12 in /usr/local/lib/python3.11/dist-packages (from scikit-image->easyocr) (2025.5.10)\n",
            "Requirement already satisfied: packaging>=21 in /usr/local/lib/python3.11/dist-packages (from scikit-image->easyocr) (24.2)\n",
            "Requirement already satisfied: lazy-loader>=0.4 in /usr/local/lib/python3.11/dist-packages (from scikit-image->easyocr) (0.4)\n",
            "Requirement already satisfied: MarkupSafe>=2.0 in /usr/local/lib/python3.11/dist-packages (from jinja2->torch->easyocr) (3.0.2)\n",
            "Downloading easyocr-1.7.2-py3-none-any.whl (2.9 MB)\n",
            "\u001b[2K   \u001b[90m━━━━━━━━━━━━━━━━━━━━━━━━━━━━━━━━━━━━━━━━\u001b[0m \u001b[32m2.9/2.9 MB\u001b[0m \u001b[31m26.4 MB/s\u001b[0m eta \u001b[36m0:00:00\u001b[0m\n",
            "\u001b[?25hDownloading nvidia_cublas_cu12-12.4.5.8-py3-none-manylinux2014_x86_64.whl (363.4 MB)\n",
            "\u001b[2K   \u001b[90m━━━━━━━━━━━━━━━━━━━━━━━━━━━━━━━━━━━━━━━━\u001b[0m \u001b[32m363.4/363.4 MB\u001b[0m \u001b[31m1.5 MB/s\u001b[0m eta \u001b[36m0:00:00\u001b[0m\n",
            "\u001b[?25hDownloading nvidia_cuda_cupti_cu12-12.4.127-py3-none-manylinux2014_x86_64.whl (13.8 MB)\n",
            "\u001b[2K   \u001b[90m━━━━━━━━━━━━━━━━━━━━━━━━━━━━━━━━━━━━━━━━\u001b[0m \u001b[32m13.8/13.8 MB\u001b[0m \u001b[31m72.0 MB/s\u001b[0m eta \u001b[36m0:00:00\u001b[0m\n",
            "\u001b[?25hDownloading nvidia_cuda_nvrtc_cu12-12.4.127-py3-none-manylinux2014_x86_64.whl (24.6 MB)\n",
            "\u001b[2K   \u001b[90m━━━━━━━━━━━━━━━━━━━━━━━━━━━━━━━━━━━━━━━━\u001b[0m \u001b[32m24.6/24.6 MB\u001b[0m \u001b[31m58.0 MB/s\u001b[0m eta \u001b[36m0:00:00\u001b[0m\n",
            "\u001b[?25hDownloading nvidia_cuda_runtime_cu12-12.4.127-py3-none-manylinux2014_x86_64.whl (883 kB)\n",
            "\u001b[2K   \u001b[90m━━━━━━━━━━━━━━━━━━━━━━━━━━━━━━━━━━━━━━━━\u001b[0m \u001b[32m883.7/883.7 kB\u001b[0m \u001b[31m41.0 MB/s\u001b[0m eta \u001b[36m0:00:00\u001b[0m\n",
            "\u001b[?25hDownloading nvidia_cudnn_cu12-9.1.0.70-py3-none-manylinux2014_x86_64.whl (664.8 MB)\n",
            "\u001b[2K   \u001b[90m━━━━━━━━━━━━━━━━━━━━━━━━━━━━━━━━━━━━━━━━\u001b[0m \u001b[32m664.8/664.8 MB\u001b[0m \u001b[31m2.8 MB/s\u001b[0m eta \u001b[36m0:00:00\u001b[0m\n",
            "\u001b[?25hDownloading nvidia_cufft_cu12-11.2.1.3-py3-none-manylinux2014_x86_64.whl (211.5 MB)\n",
            "\u001b[2K   \u001b[90m━━━━━━━━━━━━━━━━━━━━━━━━━━━━━━━━━━━━━━━━\u001b[0m \u001b[32m211.5/211.5 MB\u001b[0m \u001b[31m6.2 MB/s\u001b[0m eta \u001b[36m0:00:00\u001b[0m\n",
            "\u001b[?25hDownloading nvidia_curand_cu12-10.3.5.147-py3-none-manylinux2014_x86_64.whl (56.3 MB)\n",
            "\u001b[2K   \u001b[90m━━━━━━━━━━━━━━━━━━━━━━━━━━━━━━━━━━━━━━━━\u001b[0m \u001b[32m56.3/56.3 MB\u001b[0m \u001b[31m11.9 MB/s\u001b[0m eta \u001b[36m0:00:00\u001b[0m\n",
            "\u001b[?25hDownloading nvidia_cusolver_cu12-11.6.1.9-py3-none-manylinux2014_x86_64.whl (127.9 MB)\n",
            "\u001b[2K   \u001b[90m━━━━━━━━━━━━━━━━━━━━━━━━━━━━━━━━━━━━━━━━\u001b[0m \u001b[32m127.9/127.9 MB\u001b[0m \u001b[31m7.5 MB/s\u001b[0m eta \u001b[36m0:00:00\u001b[0m\n",
            "\u001b[?25hDownloading nvidia_cusparse_cu12-12.3.1.170-py3-none-manylinux2014_x86_64.whl (207.5 MB)\n",
            "\u001b[2K   \u001b[90m━━━━━━━━━━━━━━━━━━━━━━━━━━━━━━━━━━━━━━━━\u001b[0m \u001b[32m207.5/207.5 MB\u001b[0m \u001b[31m6.1 MB/s\u001b[0m eta \u001b[36m0:00:00\u001b[0m\n",
            "\u001b[?25hDownloading nvidia_nvjitlink_cu12-12.4.127-py3-none-manylinux2014_x86_64.whl (21.1 MB)\n",
            "\u001b[2K   \u001b[90m━━━━━━━━━━━━━━━━━━━━━━━━━━━━━━━━━━━━━━━━\u001b[0m \u001b[32m21.1/21.1 MB\u001b[0m \u001b[31m67.3 MB/s\u001b[0m eta \u001b[36m0:00:00\u001b[0m\n",
            "\u001b[?25hDownloading ninja-1.11.1.4-py3-none-manylinux_2_12_x86_64.manylinux2010_x86_64.whl (422 kB)\n",
            "\u001b[2K   \u001b[90m━━━━━━━━━━━━━━━━━━━━━━━━━━━━━━━━━━━━━━━━\u001b[0m \u001b[32m422.8/422.8 kB\u001b[0m \u001b[31m22.1 MB/s\u001b[0m eta \u001b[36m0:00:00\u001b[0m\n",
            "\u001b[?25hDownloading python_bidi-0.6.6-cp311-cp311-manylinux_2_17_x86_64.manylinux2014_x86_64.whl (292 kB)\n",
            "\u001b[2K   \u001b[90m━━━━━━━━━━━━━━━━━━━━━━━━━━━━━━━━━━━━━━━━\u001b[0m \u001b[32m292.9/292.9 kB\u001b[0m \u001b[31m19.0 MB/s\u001b[0m eta \u001b[36m0:00:00\u001b[0m\n",
            "\u001b[?25hInstalling collected packages: python-bidi, nvidia-nvjitlink-cu12, nvidia-curand-cu12, nvidia-cufft-cu12, nvidia-cuda-runtime-cu12, nvidia-cuda-nvrtc-cu12, nvidia-cuda-cupti-cu12, nvidia-cublas-cu12, ninja, nvidia-cusparse-cu12, nvidia-cudnn-cu12, nvidia-cusolver-cu12, easyocr\n",
            "  Attempting uninstall: nvidia-nvjitlink-cu12\n",
            "    Found existing installation: nvidia-nvjitlink-cu12 12.5.82\n",
            "    Uninstalling nvidia-nvjitlink-cu12-12.5.82:\n",
            "      Successfully uninstalled nvidia-nvjitlink-cu12-12.5.82\n",
            "  Attempting uninstall: nvidia-curand-cu12\n",
            "    Found existing installation: nvidia-curand-cu12 10.3.6.82\n",
            "    Uninstalling nvidia-curand-cu12-10.3.6.82:\n",
            "      Successfully uninstalled nvidia-curand-cu12-10.3.6.82\n",
            "  Attempting uninstall: nvidia-cufft-cu12\n",
            "    Found existing installation: nvidia-cufft-cu12 11.2.3.61\n",
            "    Uninstalling nvidia-cufft-cu12-11.2.3.61:\n",
            "      Successfully uninstalled nvidia-cufft-cu12-11.2.3.61\n",
            "  Attempting uninstall: nvidia-cuda-runtime-cu12\n",
            "    Found existing installation: nvidia-cuda-runtime-cu12 12.5.82\n",
            "    Uninstalling nvidia-cuda-runtime-cu12-12.5.82:\n",
            "      Successfully uninstalled nvidia-cuda-runtime-cu12-12.5.82\n",
            "  Attempting uninstall: nvidia-cuda-nvrtc-cu12\n",
            "    Found existing installation: nvidia-cuda-nvrtc-cu12 12.5.82\n",
            "    Uninstalling nvidia-cuda-nvrtc-cu12-12.5.82:\n",
            "      Successfully uninstalled nvidia-cuda-nvrtc-cu12-12.5.82\n",
            "  Attempting uninstall: nvidia-cuda-cupti-cu12\n",
            "    Found existing installation: nvidia-cuda-cupti-cu12 12.5.82\n",
            "    Uninstalling nvidia-cuda-cupti-cu12-12.5.82:\n",
            "      Successfully uninstalled nvidia-cuda-cupti-cu12-12.5.82\n",
            "  Attempting uninstall: nvidia-cublas-cu12\n",
            "    Found existing installation: nvidia-cublas-cu12 12.5.3.2\n",
            "    Uninstalling nvidia-cublas-cu12-12.5.3.2:\n",
            "      Successfully uninstalled nvidia-cublas-cu12-12.5.3.2\n",
            "  Attempting uninstall: nvidia-cusparse-cu12\n",
            "    Found existing installation: nvidia-cusparse-cu12 12.5.1.3\n",
            "    Uninstalling nvidia-cusparse-cu12-12.5.1.3:\n",
            "      Successfully uninstalled nvidia-cusparse-cu12-12.5.1.3\n",
            "  Attempting uninstall: nvidia-cudnn-cu12\n",
            "    Found existing installation: nvidia-cudnn-cu12 9.3.0.75\n",
            "    Uninstalling nvidia-cudnn-cu12-9.3.0.75:\n",
            "      Successfully uninstalled nvidia-cudnn-cu12-9.3.0.75\n",
            "  Attempting uninstall: nvidia-cusolver-cu12\n",
            "    Found existing installation: nvidia-cusolver-cu12 11.6.3.83\n",
            "    Uninstalling nvidia-cusolver-cu12-11.6.3.83:\n",
            "      Successfully uninstalled nvidia-cusolver-cu12-11.6.3.83\n",
            "Successfully installed easyocr-1.7.2 ninja-1.11.1.4 nvidia-cublas-cu12-12.4.5.8 nvidia-cuda-cupti-cu12-12.4.127 nvidia-cuda-nvrtc-cu12-12.4.127 nvidia-cuda-runtime-cu12-12.4.127 nvidia-cudnn-cu12-9.1.0.70 nvidia-cufft-cu12-11.2.1.3 nvidia-curand-cu12-10.3.5.147 nvidia-cusolver-cu12-11.6.1.9 nvidia-cusparse-cu12-12.3.1.170 nvidia-nvjitlink-cu12-12.4.127 python-bidi-0.6.6\n"
          ]
        }
      ]
    },
    {
      "cell_type": "code",
      "source": [
        "pip install paddlepaddle"
      ],
      "metadata": {
        "id": "LDioE-i3gyKR",
        "outputId": "59ba7270-065a-4536-f22a-2db83f90cb26",
        "colab": {
          "base_uri": "https://localhost:8080/"
        }
      },
      "execution_count": 22,
      "outputs": [
        {
          "output_type": "stream",
          "name": "stdout",
          "text": [
            "Requirement already satisfied: paddlepaddle in /usr/local/lib/python3.11/dist-packages (3.0.0)\n",
            "Requirement already satisfied: httpx in /usr/local/lib/python3.11/dist-packages (from paddlepaddle) (0.28.1)\n",
            "Requirement already satisfied: numpy>=1.21 in /usr/local/lib/python3.11/dist-packages (from paddlepaddle) (1.24.4)\n",
            "Requirement already satisfied: protobuf>=3.20.2 in /usr/local/lib/python3.11/dist-packages (from paddlepaddle) (5.29.4)\n",
            "Requirement already satisfied: Pillow in /usr/local/lib/python3.11/dist-packages (from paddlepaddle) (11.2.1)\n",
            "Requirement already satisfied: decorator in /usr/local/lib/python3.11/dist-packages (from paddlepaddle) (4.4.2)\n",
            "Requirement already satisfied: astor in /usr/local/lib/python3.11/dist-packages (from paddlepaddle) (0.8.1)\n",
            "Requirement already satisfied: opt_einsum==3.3.0 in /usr/local/lib/python3.11/dist-packages (from paddlepaddle) (3.3.0)\n",
            "Requirement already satisfied: networkx in /usr/local/lib/python3.11/dist-packages (from paddlepaddle) (3.4.2)\n",
            "Requirement already satisfied: typing_extensions in /usr/local/lib/python3.11/dist-packages (from paddlepaddle) (4.13.2)\n",
            "Requirement already satisfied: anyio in /usr/local/lib/python3.11/dist-packages (from httpx->paddlepaddle) (4.9.0)\n",
            "Requirement already satisfied: certifi in /usr/local/lib/python3.11/dist-packages (from httpx->paddlepaddle) (2025.4.26)\n",
            "Requirement already satisfied: httpcore==1.* in /usr/local/lib/python3.11/dist-packages (from httpx->paddlepaddle) (1.0.9)\n",
            "Requirement already satisfied: idna in /usr/local/lib/python3.11/dist-packages (from httpx->paddlepaddle) (3.10)\n",
            "Requirement already satisfied: h11>=0.16 in /usr/local/lib/python3.11/dist-packages (from httpcore==1.*->httpx->paddlepaddle) (0.16.0)\n",
            "Requirement already satisfied: sniffio>=1.1 in /usr/local/lib/python3.11/dist-packages (from anyio->httpx->paddlepaddle) (1.3.1)\n"
          ]
        }
      ]
    },
    {
      "cell_type": "code",
      "source": [
        "pip install opencv-python"
      ],
      "metadata": {
        "id": "UaKtQYKRgR-P",
        "outputId": "bb5849fe-e94e-46a8-948f-2280bbe89cea",
        "colab": {
          "base_uri": "https://localhost:8080/"
        }
      },
      "execution_count": 19,
      "outputs": [
        {
          "output_type": "stream",
          "name": "stdout",
          "text": [
            "Requirement already satisfied: opencv-python in /usr/local/lib/python3.11/dist-packages (4.11.0.86)\n",
            "Requirement already satisfied: numpy>=1.21.2 in /usr/local/lib/python3.11/dist-packages (from opencv-python) (1.24.4)\n"
          ]
        }
      ]
    },
    {
      "cell_type": "code",
      "source": [
        "from paddleocr import PaddleOCR\n",
        "import easyocr\n",
        "import cv2\n",
        "from matplotlib import pyplot as plt\n",
        "from PIL import Image\n",
        "\n",
        "# 🟢 PaddleOCR 텍스트 추출\n",
        "def extract_text_with_paddleocr(image_path):\n",
        "    ocr = PaddleOCR(use_angle_cls=True, lang='ko')  # 한글 지원\n",
        "    result = ocr.ocr(image_path)\n",
        "    print(result)\n",
        "\n",
        "    extracted_texts = []\n",
        "    for line in result[0]:\n",
        "        if isinstance(line[1], tuple) and len(line[1]) >= 2:\n",
        "            text, conf = line[1]\n",
        "            if conf > 0.7:\n",
        "                extracted_texts.append(text)\n",
        "        else:\n",
        "            continue  # line[1]이 예상한 형태가 아니면 건너뜀\n",
        "    return extracted_texts\n",
        "\n",
        "\n",
        "# 이미지 경로 (Colab에서 이미지를 업로드하고 파일명 지정)\n",
        "image_path = 'text_image.png'  # 이미지 파일 경로\n",
        "ocr = PaddleOCR(use_angle_cls=True, lang='ko')  # 한글 지원\n",
        "result = ocr.ocr(image_path)\n",
        "ocr_result = result[0]\n",
        "print(ocr_result)\n",
        "\n",
        "# 결과 출력\n",
        "# for line in result:\n",
        "#     print(line)\n",
        "\n",
        "# # 텍스트 박스 좌표, 텍스트, 신뢰도 추출\n",
        "# boxes = [elements[0] for line in result for elements in [line]]\n",
        "# texts = [elements[1][0] for line in result for elements in [line]]\n",
        "# scores = [elements[1][1] for line in result for elements in [line]]\n",
        "\n",
        "# 결과 시각화\n",
        "# image = cv2.imread(img_path)\n",
        "# image = draw_ocr(image, boxes, texts, scores, font_path='C:/Windows/Fonts/arial.ttf')\n",
        "# plt.imshow(image)\n",
        "# plt.show()\n",
        "\n",
        "\n",
        "# 1️⃣ PaddleOCR을 사용하여 텍스트 추출\n",
        "# paddle_texts = extract_text_with_paddleocr(image_path)\n",
        "\n",
        "# # 3️⃣ 결과 출력\n",
        "# print(\"PaddleOCR 텍스트:\", paddle_texts)"
      ],
      "metadata": {
        "collapsed": true,
        "id": "d_sWHWXTp4Q_",
        "outputId": "379d90b3-0617-4730-8e69-7649c41bb552",
        "colab": {
          "base_uri": "https://localhost:8080/"
        }
      },
      "execution_count": 31,
      "outputs": [
        {
          "output_type": "stream",
          "name": "stderr",
          "text": [
            "<ipython-input-31-598d70491790>:26: DeprecationWarning: The parameter `use_angle_cls` has been deprecated and will be removed in the future. Please use `use_textline_orientation` instead.\n",
            "  ocr = PaddleOCR(use_angle_cls=True, lang='ko')  # 한글 지원\n",
            "\u001b[32mCreating model: ('PP-LCNet_x1_0_doc_ori', None)\u001b[0m\n",
            "\u001b[32mUsing official model (PP-LCNet_x1_0_doc_ori), the model files will be automatically downloaded and saved in /root/.paddlex/official_models.\u001b[0m\n",
            "\u001b[32mCreating model: ('UVDoc', None)\u001b[0m\n",
            "\u001b[32mUsing official model (UVDoc), the model files will be automatically downloaded and saved in /root/.paddlex/official_models.\u001b[0m\n",
            "\u001b[32mCreating model: ('PP-LCNet_x0_25_textline_ori', None)\u001b[0m\n",
            "\u001b[32mUsing official model (PP-LCNet_x0_25_textline_ori), the model files will be automatically downloaded and saved in /root/.paddlex/official_models.\u001b[0m\n",
            "\u001b[32mCreating model: ('PP-OCRv5_mobile_det', None)\u001b[0m\n",
            "\u001b[32mUsing official model (PP-OCRv5_mobile_det), the model files will be automatically downloaded and saved in /root/.paddlex/official_models.\u001b[0m\n",
            "\u001b[32mCreating model: ('PP-OCRv5_mobile_rec', None)\u001b[0m\n",
            "\u001b[32mUsing official model (PP-OCRv5_mobile_rec), the model files will be automatically downloaded and saved in /root/.paddlex/official_models.\u001b[0m\n",
            "<ipython-input-31-598d70491790>:27: DeprecationWarning: Please use `predict` instead.\n",
            "  result = ocr.ocr(image_path)\n"
          ]
        },
        {
          "output_type": "stream",
          "name": "stdout",
          "text": [
            "{'input_path': 'text_image.png', 'page_index': None, 'doc_preprocessor_res': {'input_path': None, 'page_index': None, 'input_img': array([[[209, ..., 214],\n",
            "        ...,\n",
            "        [189, ..., 196]],\n",
            "\n",
            "       ...,\n",
            "\n",
            "       [[206, ..., 211],\n",
            "        ...,\n",
            "        [182, ..., 189]]], dtype=uint8), 'model_settings': {'use_doc_orientation_classify': True, 'use_doc_unwarping': True}, 'angle': 0, 'rot_img': array([[[209, ..., 214],\n",
            "        ...,\n",
            "        [189, ..., 196]],\n",
            "\n",
            "       ...,\n",
            "\n",
            "       [[206, ..., 211],\n",
            "        ...,\n",
            "        [182, ..., 189]]], dtype=uint8), 'output_img': array([[[213, ..., 218],\n",
            "        ...,\n",
            "        [200, ..., 205]],\n",
            "\n",
            "       ...,\n",
            "\n",
            "       [[209, ..., 214],\n",
            "        ...,\n",
            "        [169, ..., 173]]], dtype=uint8)}, 'dt_polys': [array([[538, 389],\n",
            "       ...,\n",
            "       [539, 482]], dtype=int16), array([[575, 479],\n",
            "       ...,\n",
            "       [577, 574]], dtype=int16), array([[1642,  686],\n",
            "       ...,\n",
            "       [1641,  766]], dtype=int16)], 'model_settings': {'use_doc_preprocessor': True, 'use_textline_orientation': True}, 'text_det_params': {'limit_side_len': 736, 'limit_type': 'min', 'thresh': 0.3, 'max_side_limit': 4000, 'box_thresh': 0.6, 'unclip_ratio': 1.5}, 'text_type': 'general', 'text_rec_score_thresh': 0.0, 'rec_texts': ['HY', 'Y口', '2022.04'], 'rec_scores': [0.3741007149219513, 0.2282353639602661, 0.9991750121116638], 'rec_polys': [array([[538, 389],\n",
            "       ...,\n",
            "       [539, 482]], dtype=int16), array([[575, 479],\n",
            "       ...,\n",
            "       [577, 574]], dtype=int16), array([[1642,  686],\n",
            "       ...,\n",
            "       [1641,  766]], dtype=int16)], 'textline_orientation_angles': [1, 1, 0], 'rec_boxes': array([[ 538, ...,  482],\n",
            "       ...,\n",
            "       [1641, ...,  768]], dtype=int16)}\n"
          ]
        }
      ]
    },
    {
      "cell_type": "code",
      "source": [
        "from paddleocr import PaddleOCR\n",
        "from PIL import Image\n",
        "import matplotlib.pyplot as plt\n",
        "\n",
        "# OCR 객체 초기화\n",
        "ocr = PaddleOCR(use_angle_cls=True, lang='ko')  # 한글 지원\n",
        "\n",
        "def extract_text_with_paddleocr(image_path):\n",
        "    result = ocr.ocr(image_path)\n",
        "    extracted_texts = []\n",
        "\n",
        "    if result and result[0]:\n",
        "        for line in result[0]:\n",
        "            if isinstance(line[1], tuple) and len(line[1]) >= 2:\n",
        "                text, conf = line[1]\n",
        "                if conf > 0.5:  # 신뢰도 기준 낮추기\n",
        "                    extracted_texts.append((text, conf))\n",
        "    return extracted_texts\n",
        "\n",
        "# 파이차트 이미지 텍스트 추출\n",
        "image_path = \"combi_graph.jpg\"\n",
        "texts = extract_text_with_paddleocr(image_path)\n",
        "\n",
        "# 출력\n",
        "print(\"📋 PaddleOCR 결과:\")\n",
        "for t, c in texts:\n",
        "    print(f\" - {t} (신뢰도: {c:.2f})\")"
      ],
      "metadata": {
        "id": "grlNnDzflSsY",
        "outputId": "2e1aef23-da5e-414b-a5d0-dcfe7a440f27",
        "colab": {
          "base_uri": "https://localhost:8080/"
        }
      },
      "execution_count": 37,
      "outputs": [
        {
          "output_type": "stream",
          "name": "stderr",
          "text": [
            "<ipython-input-37-05d4bb58cb91>:6: DeprecationWarning: The parameter `use_angle_cls` has been deprecated and will be removed in the future. Please use `use_textline_orientation` instead.\n",
            "  ocr = PaddleOCR(use_angle_cls=True, lang='ko')  # 한글 지원\n",
            "\u001b[32mCreating model: ('PP-LCNet_x1_0_doc_ori', None)\u001b[0m\n",
            "\u001b[32mUsing official model (PP-LCNet_x1_0_doc_ori), the model files will be automatically downloaded and saved in /root/.paddlex/official_models.\u001b[0m\n",
            "\u001b[32mCreating model: ('UVDoc', None)\u001b[0m\n",
            "\u001b[32mUsing official model (UVDoc), the model files will be automatically downloaded and saved in /root/.paddlex/official_models.\u001b[0m\n",
            "\u001b[32mCreating model: ('PP-LCNet_x0_25_textline_ori', None)\u001b[0m\n",
            "\u001b[32mUsing official model (PP-LCNet_x0_25_textline_ori), the model files will be automatically downloaded and saved in /root/.paddlex/official_models.\u001b[0m\n",
            "\u001b[32mCreating model: ('PP-OCRv5_mobile_det', None)\u001b[0m\n",
            "\u001b[32mUsing official model (PP-OCRv5_mobile_det), the model files will be automatically downloaded and saved in /root/.paddlex/official_models.\u001b[0m\n",
            "\u001b[32mCreating model: ('PP-OCRv5_mobile_rec', None)\u001b[0m\n",
            "\u001b[32mUsing official model (PP-OCRv5_mobile_rec), the model files will be automatically downloaded and saved in /root/.paddlex/official_models.\u001b[0m\n",
            "<ipython-input-37-05d4bb58cb91>:9: DeprecationWarning: Please use `predict` instead.\n",
            "  result = ocr.ocr(image_path)\n"
          ]
        },
        {
          "output_type": "stream",
          "name": "stdout",
          "text": [
            "📋 PaddleOCR 결과:\n"
          ]
        }
      ]
    },
    {
      "cell_type": "code",
      "source": [
        "from paddleocr import PaddleOCR\n",
        "\n",
        "ocr = PaddleOCR(use_angle_cls=True, lang=\"korean\")\n",
        "\n",
        "img_path = \"text_image.png\"\n",
        "result = ocr.ocr(img_path)\n",
        "\n",
        "ocr_result = result[0]\n",
        "print(ocr_result)"
      ],
      "metadata": {
        "id": "MrGy35nMifyK",
        "outputId": "ccf56773-ebee-49bd-b7b2-82cbf88a0f40",
        "colab": {
          "base_uri": "https://localhost:8080/"
        }
      },
      "execution_count": 34,
      "outputs": [
        {
          "output_type": "stream",
          "name": "stderr",
          "text": [
            "<ipython-input-34-f823d521e295>:3: DeprecationWarning: The parameter `use_angle_cls` has been deprecated and will be removed in the future. Please use `use_textline_orientation` instead.\n",
            "  ocr = PaddleOCR(use_angle_cls=True, lang=\"korean\")\n",
            "\u001b[32mCreating model: ('PP-LCNet_x1_0_doc_ori', None)\u001b[0m\n",
            "\u001b[32mUsing official model (PP-LCNet_x1_0_doc_ori), the model files will be automatically downloaded and saved in /root/.paddlex/official_models.\u001b[0m\n",
            "\u001b[32mCreating model: ('UVDoc', None)\u001b[0m\n",
            "\u001b[32mUsing official model (UVDoc), the model files will be automatically downloaded and saved in /root/.paddlex/official_models.\u001b[0m\n",
            "\u001b[32mCreating model: ('PP-LCNet_x0_25_textline_ori', None)\u001b[0m\n",
            "\u001b[32mUsing official model (PP-LCNet_x0_25_textline_ori), the model files will be automatically downloaded and saved in /root/.paddlex/official_models.\u001b[0m\n",
            "\u001b[32mCreating model: ('PP-OCRv5_mobile_det', None)\u001b[0m\n",
            "\u001b[32mUsing official model (PP-OCRv5_mobile_det), the model files will be automatically downloaded and saved in /root/.paddlex/official_models.\u001b[0m\n",
            "\u001b[32mCreating model: ('PP-OCRv5_mobile_rec', None)\u001b[0m\n",
            "\u001b[32mUsing official model (PP-OCRv5_mobile_rec), the model files will be automatically downloaded and saved in /root/.paddlex/official_models.\u001b[0m\n",
            "<ipython-input-34-f823d521e295>:6: DeprecationWarning: Please use `predict` instead.\n",
            "  result = ocr.ocr(img_path)\n"
          ]
        },
        {
          "output_type": "stream",
          "name": "stdout",
          "text": [
            "{'input_path': 'text_image.png', 'page_index': None, 'doc_preprocessor_res': {'input_path': None, 'page_index': None, 'input_img': array([[[209, ..., 214],\n",
            "        ...,\n",
            "        [189, ..., 196]],\n",
            "\n",
            "       ...,\n",
            "\n",
            "       [[206, ..., 211],\n",
            "        ...,\n",
            "        [182, ..., 189]]], dtype=uint8), 'model_settings': {'use_doc_orientation_classify': True, 'use_doc_unwarping': True}, 'angle': 0, 'rot_img': array([[[209, ..., 214],\n",
            "        ...,\n",
            "        [189, ..., 196]],\n",
            "\n",
            "       ...,\n",
            "\n",
            "       [[206, ..., 211],\n",
            "        ...,\n",
            "        [182, ..., 189]]], dtype=uint8), 'output_img': array([[[213, ..., 218],\n",
            "        ...,\n",
            "        [200, ..., 205]],\n",
            "\n",
            "       ...,\n",
            "\n",
            "       [[209, ..., 214],\n",
            "        ...,\n",
            "        [169, ..., 173]]], dtype=uint8)}, 'dt_polys': [array([[538, 389],\n",
            "       ...,\n",
            "       [539, 482]], dtype=int16), array([[575, 479],\n",
            "       ...,\n",
            "       [577, 574]], dtype=int16), array([[1642,  686],\n",
            "       ...,\n",
            "       [1641,  766]], dtype=int16)], 'model_settings': {'use_doc_preprocessor': True, 'use_textline_orientation': True}, 'text_det_params': {'limit_side_len': 736, 'limit_type': 'min', 'thresh': 0.3, 'max_side_limit': 4000, 'box_thresh': 0.6, 'unclip_ratio': 1.5}, 'text_type': 'general', 'text_rec_score_thresh': 0.0, 'rec_texts': ['HY', 'Y口', '2022.04'], 'rec_scores': [0.3741007149219513, 0.2282353639602661, 0.9991750121116638], 'rec_polys': [array([[538, 389],\n",
            "       ...,\n",
            "       [539, 482]], dtype=int16), array([[575, 479],\n",
            "       ...,\n",
            "       [577, 574]], dtype=int16), array([[1642,  686],\n",
            "       ...,\n",
            "       [1641,  766]], dtype=int16)], 'textline_orientation_angles': [1, 1, 0], 'rec_boxes': array([[ 538, ...,  482],\n",
            "       ...,\n",
            "       [1641, ...,  768]], dtype=int16)}\n"
          ]
        }
      ]
    },
    {
      "cell_type": "code",
      "source": [
        "# 🟢 EasyOCR 텍스트 추출\n",
        "def extract_text_with_easyocr(image_path):\n",
        "    reader = easyocr.Reader(['ko', 'en'])  # 한글 및 영어 지원\n",
        "    result = reader.readtext(image_path)\n",
        "\n",
        "    extracted_texts = []\n",
        "    for item in result:\n",
        "        text = item[1]\n",
        "        extracted_texts.append(text)\n",
        "    return extracted_texts\n",
        "\n",
        "\n",
        "# 이미지 경로 (Colab에서 이미지를 업로드하고 파일명 지정)\n",
        "image_path = 'basic_graph.png'  # 이미지 파일 경로\n",
        "\n",
        "\n",
        "# 2️⃣ EasyOCR을 사용하여 텍스트 추출\n",
        "easyocr_texts = extract_text_with_easyocr(image_path)\n",
        "\n",
        "print(\"EasyOCR 텍스트:\", easyocr_texts)"
      ],
      "metadata": {
        "id": "ctFmUjQxp-ol",
        "outputId": "2dea6d40-5a70-4fed-d8d8-535684394cc2",
        "colab": {
          "base_uri": "https://localhost:8080/"
        }
      },
      "execution_count": 43,
      "outputs": [
        {
          "output_type": "stream",
          "name": "stderr",
          "text": [
            "WARNING:easyocr.easyocr:Neither CUDA nor MPS are available - defaulting to CPU. Note: This module is much faster with a GPU.\n"
          ]
        },
        {
          "output_type": "stream",
          "name": "stdout",
          "text": [
            "EasyOCR 텍스트: [\"'아하는 운동\"]\n"
          ]
        }
      ]
    },
    {
      "cell_type": "code",
      "source": [
        "# 텍스트 결합 및 요약 함수\n",
        "def combine_and_summarize(paddle_texts, easyocr_texts):\n",
        "    # 두 OCR의 텍스트 결과를 합침\n",
        "    all_texts = set(paddle_texts + easyocr_texts)\n",
        "\n",
        "    # 결합된 텍스트 출력 (간단한 템플릿 활용)\n",
        "    summary = \"이 이미지는 다음과 같은 텍스트를 포함합니다:\\n\"\n",
        "    for text in all_texts:\n",
        "        summary += f\"- {text}\\n\"\n",
        "\n",
        "    return summary\n",
        "\n",
        "# 4️⃣ 텍스트 결합 및 요약 생성\n",
        "final_summary = combine_and_summarize(paddle_texts, easyocr_texts)\n",
        "\n",
        "print(\"\\n📊 결합된 요약 결과:\\n\")\n",
        "print(final_summary)"
      ],
      "metadata": {
        "id": "m3GKlP4kNx-G"
      },
      "execution_count": null,
      "outputs": []
    },
    {
      "cell_type": "markdown",
      "source": [
        "pytesseract"
      ],
      "metadata": {
        "id": "zPf0Vd2qP0_Z"
      }
    },
    {
      "cell_type": "code",
      "source": [
        "pip install pytesseract"
      ],
      "metadata": {
        "id": "0ScXO6b5P5oN",
        "outputId": "be958b98-9f82-4aed-85fb-caebcd26904d",
        "colab": {
          "base_uri": "https://localhost:8080/"
        }
      },
      "execution_count": 8,
      "outputs": [
        {
          "output_type": "stream",
          "name": "stdout",
          "text": [
            "Collecting pytesseract\n",
            "  Downloading pytesseract-0.3.13-py3-none-any.whl.metadata (11 kB)\n",
            "Requirement already satisfied: packaging>=21.3 in /usr/local/lib/python3.11/dist-packages (from pytesseract) (24.2)\n",
            "Requirement already satisfied: Pillow>=8.0.0 in /usr/local/lib/python3.11/dist-packages (from pytesseract) (11.2.1)\n",
            "Downloading pytesseract-0.3.13-py3-none-any.whl (14 kB)\n",
            "Installing collected packages: pytesseract\n",
            "Successfully installed pytesseract-0.3.13\n"
          ]
        }
      ]
    },
    {
      "cell_type": "code",
      "source": [
        "!apt install tesseract-ocr\n",
        "!apt install tesseract-ocr-kor"
      ],
      "metadata": {
        "id": "kyEpFcbNR7Vq",
        "outputId": "6708b945-3816-4b42-a177-180de276cd40",
        "colab": {
          "base_uri": "https://localhost:8080/"
        }
      },
      "execution_count": 10,
      "outputs": [
        {
          "output_type": "stream",
          "name": "stdout",
          "text": [
            "Reading package lists... Done\n",
            "Building dependency tree... Done\n",
            "Reading state information... Done\n",
            "tesseract-ocr is already the newest version (4.1.1-2.1build1).\n",
            "0 upgraded, 0 newly installed, 0 to remove and 34 not upgraded.\n",
            "Reading package lists... Done\n",
            "Building dependency tree... Done\n",
            "Reading state information... Done\n",
            "The following NEW packages will be installed:\n",
            "  tesseract-ocr-kor\n",
            "0 upgraded, 1 newly installed, 0 to remove and 34 not upgraded.\n",
            "Need to get 1,052 kB of archives.\n",
            "After this operation, 1,693 kB of additional disk space will be used.\n",
            "Get:1 http://archive.ubuntu.com/ubuntu jammy/universe amd64 tesseract-ocr-kor all 1:4.00~git30-7274cfa-1.1 [1,052 kB]\n",
            "Fetched 1,052 kB in 1s (1,089 kB/s)\n",
            "Selecting previously unselected package tesseract-ocr-kor.\n",
            "(Reading database ... 126102 files and directories currently installed.)\n",
            "Preparing to unpack .../tesseract-ocr-kor_1%3a4.00~git30-7274cfa-1.1_all.deb ...\n",
            "Unpacking tesseract-ocr-kor (1:4.00~git30-7274cfa-1.1) ...\n",
            "Setting up tesseract-ocr-kor (1:4.00~git30-7274cfa-1.1) ...\n"
          ]
        }
      ]
    },
    {
      "cell_type": "code",
      "source": [
        "!tesseract --list-langs"
      ],
      "metadata": {
        "id": "8xYu8IX2XEmF",
        "outputId": "ce677b76-0812-46bf-b3dd-8d6799bef4d5",
        "colab": {
          "base_uri": "https://localhost:8080/"
        }
      },
      "execution_count": 11,
      "outputs": [
        {
          "output_type": "stream",
          "name": "stdout",
          "text": [
            "List of available languages (3):\n",
            "eng\n",
            "kor\n",
            "osd\n"
          ]
        }
      ]
    },
    {
      "cell_type": "code",
      "source": [
        "import pytesseract\n",
        "import cv2\n",
        "import matplotlib.pyplot as plt\n",
        "import requests\n",
        "from pytesseract import Output"
      ],
      "metadata": {
        "id": "CiSqf5W3XLRY"
      },
      "execution_count": 12,
      "outputs": []
    },
    {
      "cell_type": "code",
      "source": [
        "path = 'basic_graph.png'\n",
        "image = cv2.imread(path)\n",
        "rgb_image = cv2.cvtColor(image, cv2.COLOR_BGR2RGB)"
      ],
      "metadata": {
        "id": "rHcsilZWXMdX"
      },
      "execution_count": 41,
      "outputs": []
    },
    {
      "cell_type": "code",
      "source": [
        "text = pytesseract.image_to_string(rgb_image, lang='kor+eng')\n",
        "print(text)"
      ],
      "metadata": {
        "id": "sPxcPpBtXgiE",
        "outputId": "38dada8a-5b86-4dc8-eaf8-66f723fc0a22",
        "colab": {
          "base_uri": "https://localhost:8080/"
        }
      },
      "execution_count": 42,
      "outputs": [
        {
          "output_type": "stream",
          "name": "stdout",
          "text": [
            "좋아하는 운동\n",
            "\n",
            " \n",
            "\f\n"
          ]
        }
      ]
    }
  ],
  "metadata": {
    "colab": {
      "name": "Colab 시작하기",
      "provenance": [],
      "include_colab_link": true
    },
    "kernelspec": {
      "display_name": "Python 3",
      "name": "python3"
    }
  },
  "nbformat": 4,
  "nbformat_minor": 0
}